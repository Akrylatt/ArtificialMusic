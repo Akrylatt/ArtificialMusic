{
  "nbformat": 4,
  "nbformat_minor": 0,
  "metadata": {
    "colab": {
      "provenance": [],
      "include_colab_link": true
    },
    "language_info": {
      "name": "python"
    },
    "kernelspec": {
      "name": "python3",
      "display_name": "Python 3"
    },
    "gpuClass": "standard"
  },
  "cells": [
    {
      "cell_type": "markdown",
      "metadata": {
        "id": "view-in-github",
        "colab_type": "text"
      },
      "source": [
        "<a href=\"https://colab.research.google.com/github/Akrylatt/ArtificialMusic/blob/main/building_recommender_9B.ipynb\" target=\"_parent\"><img src=\"https://colab.research.google.com/assets/colab-badge.svg\" alt=\"Open In Colab\"/></a>"
      ]
    },
    {
      "cell_type": "markdown",
      "source": [
        "#An on-line movie recommending service using Spark & Flask - Building the recommender"
      ],
      "metadata": {
        "id": "NeD2Pz3mOTa4"
      }
    },
    {
      "cell_type": "markdown",
      "source": [
        "This notebook explains how to use the [MovieLens dataset](http://grouplens.org/datasets/movielens/) to build a movie recommender using [collaborative filtering](https://en.wikipedia.org/wiki/Recommender_system#Collaborative_filtering) with [Spark's Alternating Least Saqures](https://spark.apache.org/docs/latest/mllib-collaborative-filtering.html) implementation. It is organised in two parts. The first one is about getting and parsing movies and ratings data into Spark RDDs. The second is about building and using the recommender and persisting it for later use in our on-line recommender system.    "
      ],
      "metadata": {
        "id": "nSZlbr3OOTbA"
      }
    },
    {
      "cell_type": "markdown",
      "source": [
        "This tutorial can be used independently to build a movie recommender model based on the MovieLens dataset. Most of the code in this first part, about how to use ALS with the public MovieLens dataset, comes from my solution to one of the exercises proposed in the [CS100.1x Introduction to Big Data with Apache Spark by Anthony D. Joseph on edX](https://www.edx.org/course/introduction-big-data-apache-spark-uc-berkeleyx-cs100-1x), that is also [**publicly available since 2014 at Spark Summit**](https://databricks-training.s3.amazonaws.com/movie-recommendation-with-mllib.html) . There I've added with minor modifications to use a larger dataset and also code about how to store and reload the model for later use. "
      ],
      "metadata": {
        "id": "3GSaLQIyOTbC"
      }
    },
    {
      "cell_type": "markdown",
      "source": [
        "##Getting and processing the data"
      ],
      "metadata": {
        "id": "-0qcRV2HOTbE"
      }
    },
    {
      "cell_type": "markdown",
      "source": [
        "In order to build an on-line movie recommender using Spark, we need to have our model data as preprocessed as possible. Parsing the dataset and building the model everytime a new recommendation needs to be done is not the best of the strategies."
      ],
      "metadata": {
        "id": "YP8F_1O0OTbF"
      }
    },
    {
      "cell_type": "markdown",
      "source": [
        "The list of task we can pre-compute includes:  \n",
        "\n",
        "- Loading and parsing the dataset. Persisting the resulting RDD for later use.  \n",
        "- Building the recommender model using the complete dataset. Persist the dataset for later use.  \n",
        "\n",
        "This notebook explains the first of these tasks.  "
      ],
      "metadata": {
        "id": "f3EFKjlNOTbG"
      }
    },
    {
      "cell_type": "markdown",
      "source": [
        "###File download"
      ],
      "metadata": {
        "id": "P3rYZIlnOTbJ"
      }
    },
    {
      "cell_type": "markdown",
      "source": [
        "GroupLens Research has collected and made available rating data sets from the [MovieLens web site](http://movielens.org). The data sets were collected over various periods of time, depending on the size of the set. They can be found [here](http://grouplens.org/datasets/movielens/).   "
      ],
      "metadata": {
        "id": "Ppn41CtjOTbK"
      }
    },
    {
      "cell_type": "markdown",
      "source": [
        "In our case, we will use the latest datasets:  \n",
        "\n",
        "- Small: 100,000 ratings and 2,488 tag applications applied to 8,570 movies by 706 users. Last updated 4/2015.  \n",
        "- Full: 21,000,000 ratings and 470,000 tag applications applied to 27,000 movies by 230,000 users. Last updated 4/2015.  \n"
      ],
      "metadata": {
        "id": "hpHBx6d4OTbM"
      }
    },
    {
      "cell_type": "code",
      "source": [
        "complete_dataset_url = 'http://files.grouplens.org/datasets/movielens/ml-latest.zip'\n",
        "small_dataset_url = 'http://files.grouplens.org/datasets/movielens/ml-latest-small.zip'"
      ],
      "outputs": [],
      "metadata": {
        "id": "O7TFEMz5OTbO"
      },
      "execution_count": 1
    },
    {
      "cell_type": "markdown",
      "source": [
        "We also need to define download locations."
      ],
      "metadata": {
        "id": "QiwAvnhzOTbT"
      }
    },
    {
      "cell_type": "code",
      "source": [
        "!pip install wget"
      ],
      "metadata": {
        "colab": {
          "base_uri": "https://localhost:8080/"
        },
        "id": "0S5iNV2KhYGa",
        "outputId": "e2b8ff4f-c0ea-4aa9-bd0d-477c64dbf93d"
      },
      "execution_count": 5,
      "outputs": [
        {
          "output_type": "stream",
          "name": "stdout",
          "text": [
            "Looking in indexes: https://pypi.org/simple, https://us-python.pkg.dev/colab-wheels/public/simple/\n",
            "Collecting wget\n",
            "  Downloading wget-3.2.zip (10 kB)\n",
            "  Preparing metadata (setup.py) ... \u001b[?25l\u001b[?25hdone\n",
            "Building wheels for collected packages: wget\n",
            "  Building wheel for wget (setup.py) ... \u001b[?25l\u001b[?25hdone\n",
            "  Created wheel for wget: filename=wget-3.2-py3-none-any.whl size=9676 sha256=99d777c61e40c5044c798f1094a9fc4bfac24cb03abfd60c42b6e83257dd94d6\n",
            "  Stored in directory: /root/.cache/pip/wheels/04/5f/3e/46cc37c5d698415694d83f607f833f83f0149e49b3af9d0f38\n",
            "Successfully built wget\n",
            "Installing collected packages: wget\n",
            "Successfully installed wget-3.2\n"
          ]
        }
      ]
    },
    {
      "cell_type": "code",
      "source": [
        "import os\n",
        "import wget\n",
        "\n",
        "complete_f = wget.download(complete_dataset_url)\n",
        "\n",
        "small_f = wget.download(small_dataset_url)"
      ],
      "outputs": [],
      "metadata": {
        "id": "_9nChB8bOTbV"
      },
      "execution_count": 7
    },
    {
      "cell_type": "markdown",
      "source": [
        "Now we can proceed with both downloads."
      ],
      "metadata": {
        "id": "-3vN4ASNOTbX"
      }
    },
    {
      "cell_type": "markdown",
      "source": [
        "Both of them are zip files containing a folder with ratings, movies, etc. We need to extract them into its individual folders so we can use each file later on.  "
      ],
      "metadata": {
        "id": "h9ppePQZOTbZ"
      }
    },
    {
      "cell_type": "code",
      "source": [
        "!unzip /content/ml-latest-small.zip"
      ],
      "outputs": [
        {
          "output_type": "stream",
          "name": "stdout",
          "text": [
            "Archive:  /content/ml-latest-small.zip\n",
            "   creating: ml-latest-small/\n",
            "  inflating: ml-latest-small/links.csv  \n",
            "  inflating: ml-latest-small/tags.csv  \n",
            "  inflating: ml-latest-small/ratings.csv  \n",
            "  inflating: ml-latest-small/README.txt  \n",
            "  inflating: ml-latest-small/movies.csv  \n"
          ]
        }
      ],
      "metadata": {
        "colab": {
          "base_uri": "https://localhost:8080/"
        },
        "id": "1XerNxFROTba",
        "outputId": "f39dd8ea-0bb3-40e8-c6ac-69d770be59d9"
      },
      "execution_count": 8
    },
    {
      "cell_type": "code",
      "source": [
        "!unzip /content/ml-latest.zip"
      ],
      "metadata": {
        "colab": {
          "base_uri": "https://localhost:8080/"
        },
        "id": "PdX9L7v_iZmr",
        "outputId": "5d95126d-2728-461e-bf41-f798fcb05faf"
      },
      "execution_count": 9,
      "outputs": [
        {
          "output_type": "stream",
          "name": "stdout",
          "text": [
            "Archive:  /content/ml-latest.zip\n",
            "   creating: ml-latest/\n",
            "  inflating: ml-latest/links.csv     \n",
            "  inflating: ml-latest/tags.csv      \n",
            "  inflating: ml-latest/genome-tags.csv  \n",
            "  inflating: ml-latest/ratings.csv   \n",
            "  inflating: ml-latest/README.txt    \n",
            "  inflating: ml-latest/genome-scores.csv  \n",
            "  inflating: ml-latest/movies.csv    \n"
          ]
        }
      ]
    },
    {
      "cell_type": "markdown",
      "source": [
        "###Loading and parsing datasets"
      ],
      "metadata": {
        "id": "nfwEA4KpOTbc"
      }
    },
    {
      "cell_type": "markdown",
      "source": [
        "No we are ready to read in each of the files and create an RDD consisting of parsed lines.  "
      ],
      "metadata": {
        "id": "5YY7swyVOTbd"
      }
    },
    {
      "cell_type": "markdown",
      "source": [
        "Each line in the ratings dataset (`ratings.csv`) is formatted as:  \n",
        "\n",
        "`userId,movieId,rating,timestamp`  \n",
        "\n",
        "Each line in the movies (`movies.csv`) dataset is formatted as:  \n",
        "\n",
        "`movieId,title,genres`  \n",
        "\n",
        "Were *genres* has the format:  \n",
        "\n",
        "`Genre1|Genre2|Genre3...`\n",
        "\n",
        "The tags file (`tags.csv`) has the format:  \n",
        "\n",
        "`userId,movieId,tag,timestamp`  \n",
        "\n",
        "And finally, the `links.csv` file has the format:  \n",
        "\n",
        "`movieId,imdbId,tmdbId`  "
      ],
      "metadata": {
        "id": "huyR7Ds1OTbe"
      }
    },
    {
      "cell_type": "markdown",
      "source": [
        "The format of these files is uniform and simple, so we can use Python [`split()`](https://docs.python.org/2/library/stdtypes.html#str.split) to parse their lines once they are loaded into RDDs. Parsing the movies and ratings files yields two RDDs:  \n",
        "\n",
        "* For each line in the ratings dataset, we create a tuple of `(UserID, MovieID, Rating)`. We drop the *timestamp* because we do not need it for this recommender.  \n",
        "* For each line in the movies dataset, we create a tuple of `(MovieID, Title)`. We drop the *genres* because we do not use them for this recommender.  "
      ],
      "metadata": {
        "id": "MFEJ6CToOTbf"
      }
    },
    {
      "cell_type": "markdown",
      "source": [
        "So let's load the raw ratings data. We need to filter out the header, included in each file.    "
      ],
      "metadata": {
        "id": "De_dtboBOTbg"
      }
    },
    {
      "cell_type": "code",
      "source": [],
      "outputs": [],
      "metadata": {
        "id": "KQSTWtrhOTbh"
      },
      "execution_count": 13
    },
    {
      "cell_type": "code",
      "source": [
        "small_ratings_file = \"/content/ml-latest-small/ratings.csv\"\n",
        "\n",
        "small_ratings_raw_data = sc.textFile(small_ratings_file)\n",
        "small_ratings_raw_data_header = small_ratings_raw_data.take(1)[0]"
      ],
      "metadata": {
        "id": "NNP8Xx07khdC"
      },
      "execution_count": null,
      "outputs": []
    },
    {
      "cell_type": "markdown",
      "source": [
        "Now we can parse the raw data into a new RDD.  "
      ],
      "metadata": {
        "id": "cx6fwAlDOTbn"
      }
    },
    {
      "cell_type": "code",
      "source": [
        "small_ratings_data = small_ratings_raw_data.filter(lambda line: line!=small_ratings_raw_data_header)\\\n",
        "    .map(lambda line: line.split(\",\")).map(lambda tokens: (tokens[0],tokens[1],tokens[2])).cache()"
      ],
      "metadata": {
        "id": "LC9qhqeGtqDg"
      },
      "execution_count": null,
      "outputs": []
    },
    {
      "cell_type": "markdown",
      "source": [
        "For illustrative purposes, we can take the first few lines of our RDD to see the result. In the final script we don't call any Spark action (e.g. `take`) until needed, since they trigger actual computations in the cluster.  "
      ],
      "metadata": {
        "id": "1V9c_BKCOTbq"
      }
    },
    {
      "cell_type": "code",
      "source": [
        "small_ratings_data.take(3)"
      ],
      "outputs": [
        {
          "output_type": "execute_result",
          "data": {},
          "metadata": {},
          "execution_count": 5
        }
      ],
      "metadata": {
        "id": "gvWj3RbkOTbr",
        "outputId": "4e08b71e-831f-4be2-8f9d-6c30f6ea6c20"
      },
      "execution_count": null
    },
    {
      "cell_type": "markdown",
      "source": [
        "We proceed in a similar way with the `movies.csv` file."
      ],
      "metadata": {
        "id": "O7JEdnX7OTbv"
      }
    },
    {
      "cell_type": "code",
      "source": [
        "small_movies_file = os.path.join(datasets_path, 'ml-latest-small', 'movies.csv')\n",
        "\n",
        "small_movies_raw_data = sc.textFile(small_movies_file)\n",
        "small_movies_raw_data_header = small_movies_raw_data.take(1)[0]\n",
        "\n",
        "small_movies_data = small_movies_raw_data.filter(lambda line: line!=small_movies_raw_data_header)\\\n",
        "    .map(lambda line: line.split(\",\")).map(lambda tokens: (tokens[0],tokens[1])).cache()\n",
        "    \n",
        "small_movies_data.take(3)"
      ],
      "outputs": [
        {
          "output_type": "execute_result",
          "data": {},
          "metadata": {},
          "execution_count": 6
        }
      ],
      "metadata": {
        "id": "s33pBfkPOTbw",
        "outputId": "ba93f3e2-6e16-42bb-ded5-f205630fb4b7"
      },
      "execution_count": null
    },
    {
      "cell_type": "markdown",
      "source": [
        "The following sections introduce *Collaborative Filtering* and explain how to use *Spark MLlib* to build a recommender model. We will close the tutorial by explaining how a model such this is used to make recommendations, and how to persist it for later use (e.g. in our Python/flask web-service)."
      ],
      "metadata": {
        "id": "zsDIAJLYOTbx"
      }
    },
    {
      "cell_type": "markdown",
      "source": [
        "##Collaborative Filtering"
      ],
      "metadata": {
        "id": "AgyI6acpOTby"
      }
    },
    {
      "cell_type": "markdown",
      "source": [
        "In Collaborative filtering we make predictions (filtering) about the interests of a user by collecting preferences or taste information from many users (collaborating). The underlying assumption is that if a user A has the same opinion as a user B on an issue, A is more likely to have B's opinion on a different issue x than to have the opinion on x of a user chosen randomly.  "
      ],
      "metadata": {
        "id": "ebVPMEhaOTby"
      }
    },
    {
      "cell_type": "markdown",
      "source": [
        "The image below (from [Wikipedia](https://en.wikipedia.org/?title=Collaborative_filtering)) shows an example of collaborative filtering. At first, people rate different items (like videos, images, games). Then, the system makes predictions about a user's rating for an item not rated yet. The new predictions are built upon the existing ratings of other users with similar ratings with the active user. In the image, the system predicts that the user will not like the video.  "
      ],
      "metadata": {
        "id": "KR5U9ZpgOTbz"
      }
    },
    {
      "cell_type": "markdown",
      "source": [
        "![collaborative filtering](https://upload.wikimedia.org/wikipedia/commons/5/52/Collaborative_filtering.gif)"
      ],
      "metadata": {
        "id": "sYbeBgJqOTb0"
      }
    },
    {
      "cell_type": "markdown",
      "source": [
        "Spark MLlib library for Machine Learning provides a [Collaborative Filtering](https://spark.apache.org/docs/latest/mllib-collaborative-filtering.html) implementation by using [Alternating Least Squares](http://dl.acm.org/citation.cfm?id=1608614). The implementation in MLlib has the following parameters:  \n",
        "\n",
        "- numBlocks is the number of blocks used to parallelize computation (set to -1 to auto-configure).  \n",
        "- rank is the number of latent factors in the model.  \n",
        "- iterations is the number of iterations to run.  \n",
        "- lambda specifies the regularization parameter in ALS.  \n",
        "- implicitPrefs specifies whether to use the explicit feedback ALS variant or one adapted for implicit feedback data.  \n",
        "- alpha is a parameter applicable to the implicit feedback variant of ALS that governs the baseline confidence in preference observations.  \n"
      ],
      "metadata": {
        "id": "wTlDctjROTb0"
      }
    },
    {
      "cell_type": "markdown",
      "source": [
        "##Selecting ALS parameters using the small dataset"
      ],
      "metadata": {
        "id": "VUP9Ho1gOTb1"
      }
    },
    {
      "cell_type": "markdown",
      "source": [
        "In order to determine the best ALS parameters, we will use the small dataset. We need first to split it into train, validation, and test datasets."
      ],
      "metadata": {
        "id": "IdwS9CIkOTb2"
      }
    },
    {
      "cell_type": "code",
      "source": [
        "training_RDD, validation_RDD, test_RDD = small_ratings_data.randomSplit([6, 2, 2], seed=0L)\n",
        "validation_for_predict_RDD = validation_RDD.map(lambda x: (x[0], x[1]))\n",
        "test_for_predict_RDD = test_RDD.map(lambda x: (x[0], x[1]))"
      ],
      "outputs": [],
      "metadata": {
        "id": "eKnS9weZOTb2"
      },
      "execution_count": null
    },
    {
      "cell_type": "markdown",
      "source": [
        "Now we can proceed with the training phase. "
      ],
      "metadata": {
        "id": "ZAgEmA1tOTb4"
      }
    },
    {
      "cell_type": "code",
      "source": [
        "from pyspark.mllib.recommendation import ALS\n",
        "import math\n",
        "\n",
        "seed = 5L\n",
        "iterations = 10\n",
        "regularization_parameter = 0.1\n",
        "ranks = [4, 8, 12]\n",
        "errors = [0, 0, 0]\n",
        "err = 0\n",
        "tolerance = 0.02\n",
        "\n",
        "min_error = float('inf')\n",
        "best_rank = -1\n",
        "best_iteration = -1\n",
        "for rank in ranks:\n",
        "    model = ALS.train(training_RDD, rank, seed=seed, iterations=iterations,\n",
        "                      lambda_=regularization_parameter)\n",
        "    predictions = model.predictAll(validation_for_predict_RDD).map(lambda r: ((r[0], r[1]), r[2]))\n",
        "    rates_and_preds = validation_RDD.map(lambda r: ((int(r[0]), int(r[1])), float(r[2]))).join(predictions)\n",
        "    error = math.sqrt(rates_and_preds.map(lambda r: (r[1][0] - r[1][1])**2).mean())\n",
        "    errors[err] = error\n",
        "    err += 1\n",
        "    print 'For rank %s the RMSE is %s' % (rank, error)\n",
        "    if error < min_error:\n",
        "        min_error = error\n",
        "        best_rank = rank\n",
        "\n",
        "print 'The best model was trained with rank %s' % best_rank"
      ],
      "outputs": [
        {
          "output_type": "stream",
          "text": [
            "For rank 4 the RMSE is 0.963681878574\n",
            "For rank 8 the RMSE is 0.96250475933"
          ],
          "name": "stdout"
        },
        {
          "output_type": "stream",
          "text": [
            "\n",
            "For rank 12 the RMSE is 0.971647563632"
          ],
          "name": "stdout"
        },
        {
          "output_type": "stream",
          "text": [
            "\n",
            "The best model was trained with rank 8\n"
          ],
          "name": "stdout"
        }
      ],
      "metadata": {
        "id": "EPFjLLSYOTb4",
        "outputId": "0f67e8d3-95b8-4e52-f38c-f23aba453c4a"
      },
      "execution_count": null
    },
    {
      "cell_type": "markdown",
      "source": [
        "But let's explain this a little bit. First, let's have a look at how our predictions look.  "
      ],
      "metadata": {
        "id": "zfzP5YViOTb6"
      }
    },
    {
      "cell_type": "code",
      "source": [
        "predictions.take(3)"
      ],
      "outputs": [
        {
          "output_type": "execute_result",
          "data": {},
          "metadata": {},
          "execution_count": 9
        }
      ],
      "metadata": {
        "id": "OJ7vQT9MOTb6",
        "outputId": "79fd484d-63e7-4875-8ea5-6c99d8cad73f"
      },
      "execution_count": null
    },
    {
      "cell_type": "markdown",
      "source": [
        "Basically we have the UserID, the MovieID, and the Rating, as we have in our ratings dataset. In this case the predictions third element, the rating for that movie and user, is the predicted by our ALS model."
      ],
      "metadata": {
        "id": "kBfn-124OTb7"
      }
    },
    {
      "cell_type": "markdown",
      "source": [
        "Then we join these with our validation data (the one that includes ratings) and the result looks as follows:  "
      ],
      "metadata": {
        "id": "8wC0rEtGOTb8"
      }
    },
    {
      "cell_type": "code",
      "source": [
        "rates_and_preds.take(3)"
      ],
      "outputs": [
        {
          "output_type": "execute_result",
          "data": {},
          "metadata": {},
          "execution_count": 10
        }
      ],
      "metadata": {
        "id": "0UAVawVhOTb8",
        "outputId": "63d63034-396e-4584-d3c9-fb994ce6e737"
      },
      "execution_count": null
    },
    {
      "cell_type": "markdown",
      "source": [
        "To that, we apply a squared difference and the we use the `mean()` action to get the MSE and apply `sqrt`."
      ],
      "metadata": {
        "id": "7JfdNvGTOTb-"
      }
    },
    {
      "cell_type": "markdown",
      "source": [
        "Finally we test the selected model."
      ],
      "metadata": {
        "id": "dc9E3fvbOTb_"
      }
    },
    {
      "cell_type": "code",
      "source": [
        "model = ALS.train(training_RDD, best_rank, seed=seed, iterations=iterations,\n",
        "                      lambda_=regularization_parameter)\n",
        "predictions = model.predictAll(test_for_predict_RDD).map(lambda r: ((r[0], r[1]), r[2]))\n",
        "rates_and_preds = test_RDD.map(lambda r: ((int(r[0]), int(r[1])), float(r[2]))).join(predictions)\n",
        "error = math.sqrt(rates_and_preds.map(lambda r: (r[1][0] - r[1][1])**2).mean())\n",
        "    \n",
        "print 'For testing data the RMSE is %s' % (error)"
      ],
      "outputs": [
        {
          "output_type": "stream",
          "text": [
            "For testing data the RMSE is 0.972342381898\n"
          ],
          "name": "stdout"
        }
      ],
      "metadata": {
        "id": "mB1wLwbeOTcA",
        "outputId": "167db584-1222-4937-a556-7d2c3f8d50d1"
      },
      "execution_count": null
    },
    {
      "cell_type": "markdown",
      "source": [
        "##Using the complete dataset to build the final model"
      ],
      "metadata": {
        "id": "lSWyRApVOTcB"
      }
    },
    {
      "cell_type": "markdown",
      "source": [
        "In order to build our recommender model, we will use the complete dataset. Therefore, we need to process it the same way we did with the small dataset.   "
      ],
      "metadata": {
        "id": "3hCbGG0pOTcC"
      }
    },
    {
      "cell_type": "code",
      "source": [
        "# Load the complete dataset file\n",
        "complete_ratings_file = os.path.join(datasets_path, 'ml-latest', 'ratings.csv')\n",
        "complete_ratings_raw_data = sc.textFile(complete_ratings_file)\n",
        "complete_ratings_raw_data_header = complete_ratings_raw_data.take(1)[0]\n",
        "\n",
        "# Parse\n",
        "complete_ratings_data = complete_ratings_raw_data.filter(lambda line: line!=complete_ratings_raw_data_header)\\\n",
        "    .map(lambda line: line.split(\",\")).map(lambda tokens: (int(tokens[0]),int(tokens[1]),float(tokens[2]))).cache()\n",
        "    \n",
        "print \"There are %s recommendations in the complete dataset\" % (complete_ratings_data.count())"
      ],
      "outputs": [
        {
          "output_type": "stream",
          "text": [
            "There are 21063128 recommendations in the complete dataset\n"
          ],
          "name": "stdout"
        }
      ],
      "metadata": {
        "id": "LGJCYxK4OTcD",
        "outputId": "f355a5d9-8dd8-46ef-f0c8-d90b938ff8d6"
      },
      "execution_count": null
    },
    {
      "cell_type": "markdown",
      "source": [
        "Now we are ready to train the recommender model."
      ],
      "metadata": {
        "id": "31TfR76aOTcE"
      }
    },
    {
      "cell_type": "code",
      "source": [
        "training_RDD, test_RDD = complete_ratings_data.randomSplit([7, 3], seed=0L)\n",
        "\n",
        "complete_model = ALS.train(training_RDD, best_rank, seed=seed, \n",
        "                           iterations=iterations, lambda_=regularization_parameter)"
      ],
      "outputs": [],
      "metadata": {
        "id": "hFzaj6P8OTcE"
      },
      "execution_count": null
    },
    {
      "cell_type": "markdown",
      "source": [
        "Now we test on our testing set.  "
      ],
      "metadata": {
        "id": "V9zR7mhiOTcF"
      }
    },
    {
      "cell_type": "code",
      "source": [
        "test_for_predict_RDD = test_RDD.map(lambda x: (x[0], x[1]))\n",
        "\n",
        "predictions = complete_model.predictAll(test_for_predict_RDD).map(lambda r: ((r[0], r[1]), r[2]))\n",
        "rates_and_preds = test_RDD.map(lambda r: ((int(r[0]), int(r[1])), float(r[2]))).join(predictions)\n",
        "error = math.sqrt(rates_and_preds.map(lambda r: (r[1][0] - r[1][1])**2).mean())\n",
        "    \n",
        "print 'For testing data the RMSE is %s' % (error)"
      ],
      "outputs": [
        {
          "output_type": "stream",
          "text": [
            "For testing data the RMSE is 0.82183583368\n"
          ],
          "name": "stdout"
        }
      ],
      "metadata": {
        "id": "BI_jfevZOTcG",
        "outputId": "62711130-aacb-4517-d22d-25e411618f89"
      },
      "execution_count": null
    },
    {
      "cell_type": "markdown",
      "source": [
        "We can see how we got a more accurate recommender when using a much larger dataset.  "
      ],
      "metadata": {
        "id": "3473pHNAOTcH"
      }
    },
    {
      "cell_type": "markdown",
      "source": [
        "##How to make recommendations"
      ],
      "metadata": {
        "id": "a1N2wTWKOTcI"
      }
    },
    {
      "cell_type": "markdown",
      "source": [
        "Although we aim at building an on-line movie recommender, now that we know how to have our recommender model ready, we can give it a try providing some movie recommendations. This will help us coiding the recommending engine later on when building the web service, and will explain how to use the model in any other circumstances.  "
      ],
      "metadata": {
        "id": "BjIOYw3BOTcK"
      }
    },
    {
      "cell_type": "markdown",
      "source": [
        "When using collaborative filtering, getting recommendations is not as simple as predicting for the new entries using a previously generated model. Instead, we need to train again the model but including the new user preferences in order to compare them with other users in the dataset. That is, the recommender needs to be trained every time we have new user ratings (although a single model can be used by multiple users of course!). This makes the process expensive, and it is one of the reasons why scalability is a problem (and Spark a solution!). Once we have our model trained, we can reuse it to obtain top recomendations for a given user or an individual rating for a particular movie. These are less costly operations than training the model itself.    "
      ],
      "metadata": {
        "id": "6qkIWVX1OTcK"
      }
    },
    {
      "cell_type": "markdown",
      "source": [
        "So let's first load the movies complete file for later use."
      ],
      "metadata": {
        "id": "4DDph37KOTcL"
      }
    },
    {
      "cell_type": "code",
      "source": [
        "complete_movies_file = os.path.join(datasets_path, 'ml-latest', 'movies.csv')\n",
        "complete_movies_raw_data = sc.textFile(complete_movies_file)\n",
        "complete_movies_raw_data_header = complete_movies_raw_data.take(1)[0]\n",
        "\n",
        "# Parse\n",
        "complete_movies_data = complete_movies_raw_data.filter(lambda line: line!=complete_movies_raw_data_header)\\\n",
        "    .map(lambda line: line.split(\",\")).map(lambda tokens: (int(tokens[0]),tokens[1],tokens[2])).cache()\n",
        "\n",
        "complete_movies_titles = complete_movies_data.map(lambda x: (int(x[0]),x[1]))\n",
        "    \n",
        "print \"There are %s movies in the complete dataset\" % (complete_movies_titles.count())"
      ],
      "outputs": [
        {
          "output_type": "stream",
          "text": [
            "There are 27303 movies in the complete dataset\n"
          ],
          "name": "stdout"
        }
      ],
      "metadata": {
        "id": "GuDaSHAEOTcM",
        "outputId": "c1f2bee8-a739-4209-b05d-995d536d0034"
      },
      "execution_count": null
    },
    {
      "cell_type": "markdown",
      "source": [
        "Another thing we want to do, is give recommendations of movies with a certain minimum number of ratings. For that, we need to count the number of ratings per movie.  "
      ],
      "metadata": {
        "id": "hdus-xd4OTcO"
      }
    },
    {
      "cell_type": "code",
      "source": [
        "def get_counts_and_averages(ID_and_ratings_tuple):\n",
        "    nratings = len(ID_and_ratings_tuple[1])\n",
        "    return ID_and_ratings_tuple[0], (nratings, float(sum(x for x in ID_and_ratings_tuple[1]))/nratings)\n",
        "\n",
        "movie_ID_with_ratings_RDD = (complete_ratings_data.map(lambda x: (x[1], x[2])).groupByKey())\n",
        "movie_ID_with_avg_ratings_RDD = movie_ID_with_ratings_RDD.map(get_counts_and_averages)\n",
        "movie_rating_counts_RDD = movie_ID_with_avg_ratings_RDD.map(lambda x: (x[0], x[1][0]))"
      ],
      "outputs": [],
      "metadata": {
        "id": "UqdmCNXDOTcP"
      },
      "execution_count": null
    },
    {
      "cell_type": "markdown",
      "source": [
        "###Adding new user ratings"
      ],
      "metadata": {
        "id": "sVCcZnPtOTcQ"
      }
    },
    {
      "cell_type": "markdown",
      "source": [
        "Now we need to rate some movies for the new user. We will put them in a new RDD and we will use the user ID 0, that is not assigned in the MovieLens dataset. Check the [dataset](http://grouplens.org/datasets/movielens/) movies file for ID to Tittle assignment (so you know what movies are you actually rating).   "
      ],
      "metadata": {
        "id": "ZleNC8KGOTcR"
      }
    },
    {
      "cell_type": "code",
      "source": [
        "new_user_ID = 0\n",
        "\n",
        "# The format of each line is (userID, movieID, rating)\n",
        "new_user_ratings = [\n",
        "     (0,260,9), # Star Wars (1977)\n",
        "     (0,1,8), # Toy Story (1995)\n",
        "     (0,16,7), # Casino (1995)\n",
        "     (0,25,8), # Leaving Las Vegas (1995)\n",
        "     (0,32,9), # Twelve Monkeys (a.k.a. 12 Monkeys) (1995)\n",
        "     (0,335,4), # Flintstones, The (1994)\n",
        "     (0,379,3), # Timecop (1994)\n",
        "     (0,296,7), # Pulp Fiction (1994)\n",
        "     (0,858,10) , # Godfather, The (1972)\n",
        "     (0,50,8) # Usual Suspects, The (1995)\n",
        "    ]\n",
        "new_user_ratings_RDD = sc.parallelize(new_user_ratings)\n",
        "print 'New user ratings: %s' % new_user_ratings_RDD.take(10)"
      ],
      "outputs": [
        {
          "output_type": "stream",
          "text": [
            "New user ratings: [(0, 260, 9), (0, 1, 8), (0, 16, 7), (0, 25, 8), (0, 32, 9), (0, 335, 4), (0, 379, 3), (0, 296, 7), (0, 858, 10), (0, 50, 8)]\n"
          ],
          "name": "stdout"
        }
      ],
      "metadata": {
        "id": "pb7OypxyOTcR",
        "outputId": "7bc0fe7a-d262-4001-ddef-779d02f904be"
      },
      "execution_count": null
    },
    {
      "cell_type": "markdown",
      "source": [
        "Now we add them to the data we will use to train our recommender model. We use Spark's `union()` transformation for this.  "
      ],
      "metadata": {
        "id": "Xd_P7p25OTcT"
      }
    },
    {
      "cell_type": "code",
      "source": [
        "complete_data_with_new_ratings_RDD = complete_ratings_data.union(new_user_ratings_RDD)"
      ],
      "outputs": [],
      "metadata": {
        "id": "yfwcBCCPOTcU"
      },
      "execution_count": null
    },
    {
      "cell_type": "markdown",
      "source": [
        "And finally we train the ALS model using all the parameters we selected before (when using the small dataset)."
      ],
      "metadata": {
        "id": "lcWhoszXOTcV"
      }
    },
    {
      "cell_type": "code",
      "source": [
        "from time import time\n",
        "\n",
        "t0 = time()\n",
        "new_ratings_model = ALS.train(complete_data_with_new_ratings_RDD, best_rank, seed=seed, \n",
        "                              iterations=iterations, lambda_=regularization_parameter)\n",
        "tt = time() - t0\n",
        "\n",
        "print \"New model trained in %s seconds\" % round(tt,3)"
      ],
      "outputs": [
        {
          "output_type": "stream",
          "text": [
            "New model trained in 56.61 seconds\n"
          ],
          "name": "stdout"
        }
      ],
      "metadata": {
        "id": "ALR5NiS9OTcW",
        "outputId": "dd5dd729-b8f2-4840-b2c8-d7bd461e3f3e"
      },
      "execution_count": null
    },
    {
      "cell_type": "markdown",
      "source": [
        "It took some time. We will need to repeat that every time a user add new ratings. Ideally we will do this in batches, and not for every single rating that comes into the system for every user."
      ],
      "metadata": {
        "id": "D2OWxvokOTcX"
      }
    },
    {
      "cell_type": "markdown",
      "source": [
        "###Getting top recommendations"
      ],
      "metadata": {
        "id": "r6FZJ4gEOTcY"
      }
    },
    {
      "cell_type": "markdown",
      "source": [
        "Let's now get some recommendations! For that we will get an RDD with all the movies the new user hasn't rated yet. We will them together with the model to predict ratings.  "
      ],
      "metadata": {
        "id": "g88VmVe_OTcY"
      }
    },
    {
      "cell_type": "code",
      "source": [
        "new_user_ratings_ids = map(lambda x: x[1], new_user_ratings) # get just movie IDs\n",
        "# keep just those not on the ID list (thanks Lei Li for spotting the error!)\n",
        "new_user_unrated_movies_RDD = (complete_movies_data.filter(lambda x: x[0] not in new_user_ratings_ids).map(lambda x: (new_user_ID, x[0])))\n",
        "\n",
        "# Use the input RDD, new_user_unrated_movies_RDD, with new_ratings_model.predictAll() to predict new ratings for the movies\n",
        "new_user_recommendations_RDD = new_ratings_model.predictAll(new_user_unrated_movies_RDD)"
      ],
      "outputs": [],
      "metadata": {
        "id": "KHVlrVk2OTcZ"
      },
      "execution_count": null
    },
    {
      "cell_type": "markdown",
      "source": [
        "We have our recommendations ready. Now we can print out the 25 movies with the highest predicted ratings. And join them with the movies RDD to get the titles, and ratings count in order to get movies with a minimum number of counts. First we will do the join and see what does the result looks like."
      ],
      "metadata": {
        "id": "qSOMpDxAOTca"
      }
    },
    {
      "cell_type": "code",
      "source": [
        "# Transform new_user_recommendations_RDD into pairs of the form (Movie ID, Predicted Rating)\n",
        "new_user_recommendations_rating_RDD = new_user_recommendations_RDD.map(lambda x: (x.product, x.rating))\n",
        "new_user_recommendations_rating_title_and_count_RDD = \\\n",
        "    new_user_recommendations_rating_RDD.join(complete_movies_titles).join(movie_rating_counts_RDD)\n",
        "new_user_recommendations_rating_title_and_count_RDD.take(3)"
      ],
      "outputs": [
        {
          "output_type": "execute_result",
          "data": {},
          "metadata": {},
          "execution_count": 22
        }
      ],
      "metadata": {
        "id": "Y4H3tQgTOTca",
        "outputId": "b86fb9e0-cd4b-4a9f-898d-40ef272be526"
      },
      "execution_count": null
    },
    {
      "cell_type": "markdown",
      "source": [
        "So we need to flat this down a bit in order to have `(Title, Rating, Ratings Count)`."
      ],
      "metadata": {
        "id": "kUqfQaGGOTcb"
      }
    },
    {
      "cell_type": "code",
      "source": [
        "new_user_recommendations_rating_title_and_count_RDD = \\\n",
        "    new_user_recommendations_rating_title_and_count_RDD.map(lambda r: (r[1][0][1], r[1][0][0], r[1][1]))"
      ],
      "outputs": [],
      "metadata": {
        "id": "S81EURbOOTcc"
      },
      "execution_count": null
    },
    {
      "cell_type": "markdown",
      "source": [
        "Finally, get the highest rated recommendations for the new user, filtering out movies with less than 25 ratings."
      ],
      "metadata": {
        "id": "IodyZYpyOTcc"
      }
    },
    {
      "cell_type": "code",
      "source": [
        "top_movies = new_user_recommendations_rating_title_and_count_RDD.filter(lambda r: r[2]>=25).takeOrdered(25, key=lambda x: -x[1])\n",
        "\n",
        "print ('TOP recommended movies (with more than 25 reviews):\\n%s' %\n",
        "        '\\n'.join(map(str, top_movies)))"
      ],
      "outputs": [
        {
          "output_type": "stream",
          "text": [
            "TOP recommended movies (with more than 25 reviews):\n",
            "(u'\"Godfather: Part II', 8.503749129186701, 29198)\n",
            "(u'\"Civil War', 8.386497469089297, 257)\n",
            "(u'Frozen Planet (2011)', 8.372705479107108, 31)\n",
            "(u'\"Shawshank Redemption', 8.258510064442426, 67741)\n",
            "(u'Cosmos (1980)', 8.252254825768972, 948)\n",
            "(u'Band of Brothers (2001)', 8.225114960311624, 4450)\n",
            "(u'Generation Kill (2008)', 8.206487040524653, 52)\n",
            "(u\"Schindler's List (1993)\", 8.172761674773625, 53609)\n",
            "(u'Dr. Strangelove or: How I Learned to Stop Worrying and Love the Bomb (1964)', 8.166229786764168, 23915)\n",
            "(u\"One Flew Over the Cuckoo's Nest (1975)\", 8.15617022970577, 32948)\n",
            "(u'Casablanca (1942)', 8.141303207981174, 26114)\n",
            "(u'Seven Samurai (Shichinin no samurai) (1954)', 8.139633165142612, 11796)\n",
            "(u'Goodfellas (1990)', 8.12931139039048, 27123)\n",
            "(u'Star Wars: Episode V - The Empire Strikes Back (1980)', 8.124225700242096, 47710)\n",
            "(u'Jazz (2001)', 8.078538221315313, 25)\n",
            "(u\"Long Night's Journey Into Day (2000)\", 8.050176820606127, 34)\n",
            "(u'Lawrence of Arabia (1962)', 8.041331489948814, 13452)\n",
            "(u'Raiders of the Lost Ark (Indiana Jones and the Raiders of the Lost Ark) (1981)', 8.0399424815528, 45908)\n",
            "(u'12 Angry Men (1957)', 8.011389274280754, 13235)\n",
            "(u\"It's Such a Beautiful Day (2012)\", 8.007734839026181, 35)\n",
            "(u'Apocalypse Now (1979)', 8.005094327199552, 23905)\n",
            "(u'Paths of Glory (1957)', 7.999379786394267, 3598)\n",
            "(u'Rear Window (1954)', 7.9860865203540214, 17996)\n",
            "(u'State of Play (2003)', 7.981582126801772, 27)\n",
            "(u'Chinatown (1974)', 7.978673289692703, 16195)\n"
          ],
          "name": "stdout"
        }
      ],
      "metadata": {
        "id": "_q2R7h78OTcd",
        "outputId": "0d3de09d-8947-48b9-95ef-2ab1257ac3ab"
      },
      "execution_count": null
    },
    {
      "cell_type": "markdown",
      "source": [
        "###Getting individual ratings"
      ],
      "metadata": {
        "id": "dl12sLW-OTce"
      }
    },
    {
      "cell_type": "markdown",
      "source": [
        "Another useful usecase is getting the predicted rating for a particular movie for a given user. The process is similar to the previous retreival of top recommendations but, instead of using `predcitAll` with every single movie the user hasn't rated yet, we will just pass the method a single entry with the movie we want to predict the rating for.  "
      ],
      "metadata": {
        "id": "a_d5CFvrOTce"
      }
    },
    {
      "cell_type": "code",
      "source": [
        "my_movie = sc.parallelize([(0, 500)]) # Quiz Show (1994)\n",
        "individual_movie_rating_RDD = new_ratings_model.predictAll(new_user_unrated_movies_RDD)\n",
        "individual_movie_rating_RDD.take(1)"
      ],
      "outputs": [
        {
          "output_type": "execute_result",
          "data": {},
          "metadata": {},
          "execution_count": 25
        }
      ],
      "metadata": {
        "id": "1Qwau528OTcf",
        "outputId": "c595bb9f-0b21-4b8e-df15-0986f51374c0"
      },
      "execution_count": null
    },
    {
      "cell_type": "markdown",
      "source": [
        "Not very likely that the new user will like that one... Obviously we can include as many movies as we need in that list!"
      ],
      "metadata": {
        "id": "2FSmInUgOTch"
      }
    },
    {
      "cell_type": "markdown",
      "source": [
        "##Persisting the model"
      ],
      "metadata": {
        "id": "kf00ULscOTch"
      }
    },
    {
      "cell_type": "markdown",
      "source": [
        "Optionally, we might want to persist the base model for later use in our on-line recommendations. Although a new model is generated everytime we have new user ratings, it might be worth it to store the current one, in order to save time when starting up the server, etc. We might also save time if we persist some of the RDDs we have generated, specially those that took longer to process. For example, the following lines save and load a ALS model.      "
      ],
      "metadata": {
        "id": "yrf7tVZyOTci"
      }
    },
    {
      "cell_type": "code",
      "source": [
        "from pyspark.mllib.recommendation import MatrixFactorizationModel\n",
        "\n",
        "model_path = os.path.join('..', 'models', 'movie_lens_als')\n",
        "\n",
        "# Save and load model\n",
        "model.save(sc, model_path)\n",
        "same_model = MatrixFactorizationModel.load(sc, model_path)"
      ],
      "outputs": [],
      "metadata": {
        "id": "JwadeJYqOTcj"
      },
      "execution_count": null
    },
    {
      "cell_type": "markdown",
      "source": [
        "Among other things, you will see in your filesystem that there are folder with product and user data into [Parquet](https://parquet.apache.org/) format files.  "
      ],
      "metadata": {
        "id": "RfehBb5XOTck"
      }
    },
    {
      "cell_type": "markdown",
      "source": [
        "##Genre and other fields"
      ],
      "metadata": {
        "id": "Gzm-EW8-OTck"
      }
    },
    {
      "cell_type": "markdown",
      "source": [
        "We havent used the `genre` and `timestamp` fields in order to simplify the transformations and the whole tutorial. Incorporating them doesn't reprensent any problem. A good use could be filtering recommendations by any of them (e.g. recommendations by genre, or recent recommendations) like we have done with the minimum number of ratings.  "
      ],
      "metadata": {
        "id": "akho4RMpOTcl"
      }
    }
  ]
}